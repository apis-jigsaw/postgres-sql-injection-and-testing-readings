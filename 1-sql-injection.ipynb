{
 "cells": [
  {
   "cell_type": "markdown",
   "metadata": {},
   "source": [
    "# SQL Injection"
   ]
  },
  {
   "cell_type": "markdown",
   "metadata": {},
   "source": [
    "### Introduction"
   ]
  },
  {
   "cell_type": "markdown",
   "metadata": {},
   "source": [
    "In this lesson, we'll learn how users can hack into our database through SQL injection, and what we can do about it."
   ]
  },
  {
   "cell_type": "markdown",
   "metadata": {},
   "source": [
    "### SQL Injection: How it occurs"
   ]
  },
  {
   "cell_type": "markdown",
   "metadata": {},
   "source": [
    "Imagine that we have a movies database and that we write the following function queries for movies by their genre:"
   ]
  },
  {
   "cell_type": "code",
   "execution_count": 1,
   "metadata": {},
   "outputs": [],
   "source": [
    "def movies_by_genre(genre):\n",
    "    cursor.execute(f\"SELECT * FROM movies WHERE genre = {genre};\")\n",
    "    movies = cursor.fetchall()"
   ]
  },
  {
   "cell_type": "markdown",
   "metadata": {},
   "source": [
    "Now if we think about where this query may come from, it may be triggered because of an API request.  For example we can imagine a user triggers the call of this function through reaching the following endpoint.\n",
    "\n",
    "> Another word for a specific url on an api is an **endpoint**."
   ]
  },
  {
   "cell_type": "markdown",
   "metadata": {},
   "source": [
    "`/movies?genre=action`\n",
    "\n",
    "And this request will lead to our function being called like so:\n",
    "\n",
    "* `movies_by_genre('action')`\n",
    "* `cursor.execute(f\"SELECT * FROM movies WHERE genre = action;\")`"
   ]
  },
  {
   "cell_type": "markdown",
   "metadata": {},
   "source": [
    "### What's the problem?"
   ]
  },
  {
   "cell_type": "markdown",
   "metadata": {},
   "source": [
    "Well, the danger is that a malcious user when accessing the API could also type in something like the following:"
   ]
  },
  {
   "cell_type": "markdown",
   "metadata": {},
   "source": [
    "`/movies?genre=action; DROP table users;`"
   ]
  },
  {
   "cell_type": "markdown",
   "metadata": {},
   "source": [
    "Which would lead to:"
   ]
  },
  {
   "cell_type": "markdown",
   "metadata": {},
   "source": [
    "* `movies_by_genre('action; DROP table users;')`\n",
    "* `cursor.execute(f\"SELECT * FROM movies WHERE genre = action; DROP TABLE users;\")`"
   ]
  },
  {
   "cell_type": "markdown",
   "metadata": {},
   "source": [
    "This is bad news.  Our user table just got dropped.  And it's because a malicious user inputted in a SQL command to drop our users table.\n",
    "\n",
    "So we now have a dilemma.  We want an API that allows users to query our database, but we want to prevent malicious calls to our database."
   ]
  },
  {
   "cell_type": "markdown",
   "metadata": {},
   "source": [
    "### Our fix: String Composition"
   ]
  },
  {
   "cell_type": "markdown",
   "metadata": {},
   "source": [
    "To prevent this, we can change our `movies_by_genre` function to the following:"
   ]
  },
  {
   "cell_type": "code",
   "execution_count": 2,
   "metadata": {},
   "outputs": [],
   "source": [
    "def movies_by_genre(genre):\n",
    "    cursor.execute(f\"SELECT * FROM movies WHERE genre = %s;\", (genre,))\n",
    "    movies = cursor.fetchall()"
   ]
  },
  {
   "cell_type": "markdown",
   "metadata": {},
   "source": [
    "This way when our user passes through a malicious API request, the user input is passed through the execute function as a separate argument."
   ]
  },
  {
   "cell_type": "code",
   "execution_count": null,
   "metadata": {},
   "outputs": [],
   "source": [
    "cursor.execute(f\"SELECT * FROM movies WHERE genre = %s;\", ('movies; DROP TABLE users;',))"
   ]
  },
  {
   "cell_type": "markdown",
   "metadata": {},
   "source": [
    "The `psycopg2` library can look at this last argument to ensure it only contains SQL arguments and not fully formed SQL commands like `DROP TABLE users;`.  If a user passes through a command, `psycopg2` simply will not execute it."
   ]
  },
  {
   "cell_type": "markdown",
   "metadata": {},
   "source": [
    "So preventing SQL injection does not involve a lot of work.  We simply should replace any dynamic arguments (often after `=`, `>`, `<` with a `%s`.\n",
    "\n",
    "\n",
    "To ensure that we can get this working properly there are a couple of gotchas to note:"
   ]
  },
  {
   "cell_type": "markdown",
   "metadata": {},
   "source": [
    "1. With string composition, our second argument must be a tuple or a list.  \n",
    "\n",
    "* If it's a one element tuple, make sure we have one element tuple, make sure there's a comma after the tuple or the tuple will not be passed through."
   ]
  },
  {
   "cell_type": "code",
   "execution_count": null,
   "metadata": {},
   "outputs": [],
   "source": [
    "cursor.execute(f\"SELECT * FROM movies WHERE genre = %s;\", (genre,))"
   ]
  },
  {
   "cell_type": "code",
   "execution_count": 2,
   "metadata": {},
   "outputs": [
    {
     "data": {
      "text/plain": [
       "('Action',)"
      ]
     },
     "execution_count": 2,
     "metadata": {},
     "output_type": "execute_result"
    }
   ],
   "source": [
    "('Action',) # this is a tuple"
   ]
  },
  {
   "cell_type": "code",
   "execution_count": 4,
   "metadata": {},
   "outputs": [
    {
     "data": {
      "text/plain": [
       "'Action'"
      ]
     },
     "execution_count": 4,
     "metadata": {},
     "output_type": "execute_result"
    }
   ],
   "source": [
    "('Action') # this is a string"
   ]
  },
  {
   "cell_type": "markdown",
   "metadata": {},
   "source": [
    "2. Passing through multiple arguments"
   ]
  },
  {
   "cell_type": "markdown",
   "metadata": {},
   "source": [
    "> Make sure there is a `%s` for each value we wish to pass through.  "
   ]
  },
  {
   "cell_type": "code",
   "execution_count": 4,
   "metadata": {},
   "outputs": [],
   "source": [
    "cursor.execute(f\"SELECT * FROM movies WHERE genre = %s AND revenue > %s;\", (genre, revenue_amount))"
   ]
  },
  {
   "cell_type": "markdown",
   "metadata": {},
   "source": [
    "### Summary"
   ]
  },
  {
   "cell_type": "markdown",
   "metadata": {},
   "source": [
    "In this lesson, we saw how to use psycopg2 to connect to postgres using a Python library.  The key is to install with the `psycopg2-binary` library.  Then, in connecting to a specific database, we specify the datbase name, the user and password.  The host and port are optional."
   ]
  }
 ],
 "metadata": {
  "kernelspec": {
   "display_name": "Python 3",
   "language": "python",
   "name": "python3"
  },
  "language_info": {
   "codemirror_mode": {
    "name": "ipython",
    "version": 3
   },
   "file_extension": ".py",
   "mimetype": "text/x-python",
   "name": "python",
   "nbconvert_exporter": "python",
   "pygments_lexer": "ipython3",
   "version": "3.8.3"
  }
 },
 "nbformat": 4,
 "nbformat_minor": 4
}

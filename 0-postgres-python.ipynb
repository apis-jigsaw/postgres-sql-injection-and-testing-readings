{
 "cells": [
  {
   "cell_type": "markdown",
   "metadata": {},
   "source": [
    "# Postgres in Python"
   ]
  },
  {
   "cell_type": "markdown",
   "metadata": {},
   "source": [
    "### Introduction"
   ]
  },
  {
   "cell_type": "markdown",
   "metadata": {},
   "source": [
    "In this lesson, we'll work on connecting to the postgres library from Python.  Let's get started.  Along the way, we'll also discuss the concept of sql injection."
   ]
  },
  {
   "cell_type": "markdown",
   "metadata": {},
   "source": [
    "### Installing"
   ]
  },
  {
   "cell_type": "markdown",
   "metadata": {},
   "source": [
    "First, let's upgrade pip with the following."
   ]
  },
  {
   "cell_type": "markdown",
   "metadata": {},
   "source": [
    "```python\n",
    "pip3 install psycopg2-binary\n",
    "```"
   ]
  },
  {
   "cell_type": "markdown",
   "metadata": {},
   "source": [
    "Then we can open a python shell with python3.  And try out our connection with something like the following:"
   ]
  },
  {
   "cell_type": "markdown",
   "metadata": {},
   "source": [
    "```python\n",
    "conn = psycopg2.connect(dbname=\"movies\", user=\"postgres\", password=\"postgres\")\n",
    "\n",
    "cursor = conn.cursor()\n",
    "\n",
    "cursor.execute(\"SELECT * FROM movies;\")\n",
    "movies = cursor.fetchall()\n",
    "```"
   ]
  },
  {
   "cell_type": "markdown",
   "metadata": {},
   "source": [
    "Or to be even more explicit we can also provide the host and port numbers."
   ]
  },
  {
   "cell_type": "markdown",
   "metadata": {},
   "source": [
    "```python\n",
    "conn = psycopg2.connect(dbname=\"movies\", user=\"postgres\", password=\"postgres\", host=\"localhost\", port=\"5432\")\n",
    "\n",
    "cursor = conn.cursor()\n",
    "\n",
    "def find_all():\n",
    "    cursor.execute(\"SELECT * FROM movies;\")\n",
    "    movies = cursor.fetchall()\n",
    "    return movies\n",
    "```"
   ]
  },
  {
   "cell_type": "markdown",
   "metadata": {},
   "source": [
    "If `movies` now contains the list of movies we are good to go."
   ]
  },
  {
   "cell_type": "markdown",
   "metadata": {},
   "source": [
    "### Commiting Changes"
   ]
  },
  {
   "cell_type": "markdown",
   "metadata": {},
   "source": [
    "The above is our sequence for querying our database.  However, if we wish to make a change to our database, like deleting, updating or inserting a row of data, we also need to `commit` our changes. \n",
    "\n",
    "Here is an example:"
   ]
  },
  {
   "cell_type": "markdown",
   "metadata": {},
   "source": [
    "```python\n",
    "cursor.execute(\"INSERT INTO movies (name, genre) VALUES ('Fast 5', 'Action');\")\n",
    "cursor.commit()\n",
    "```"
   ]
  },
  {
   "cell_type": "markdown",
   "metadata": {},
   "source": [
    "Ah, now our database has actually been updated.  Without performing the commit, our changes will not have been written to the database."
   ]
  },
  {
   "cell_type": "markdown",
   "metadata": {},
   "source": [
    "### Summary"
   ]
  },
  {
   "cell_type": "markdown",
   "metadata": {},
   "source": [
    "In this lesson, we learned how to use postgres with the `psycopg2` library.\n",
    "\n",
    "* To install psycopg2 use the following command `pip3 install psycopg2-binary` \n",
    "* To connect to the database use the connect function passing through the dbname, user, and password:\n",
    "    * `conn = psycopg2.connect(dbname=\"movies\", user=\"postgres\", password=\"postgres\")`\n",
    "    * `cursor = conn.cursor()`\n",
    "* To perform a query, make sure to call both `cursor.execute` and `cursor.fetchall`:\n",
    "    * `cursor.execute(\"SELECT * FROM movies;\")`\n",
    "    * `movies = cursor.fetchall()`\n",
    "* And to make a change to the database, we need to *commit* our changes.\n",
    "    * `cursor.execute(\"INSERT INTO movies (name, genre) VALUES ('Fast 5', 'Action');\")`\n",
    "    * `cursor.commit()`"
   ]
  },
  {
   "cell_type": "markdown",
   "metadata": {},
   "source": [
    "### Resources\n",
    "\n",
    "[Psycopg2](https://www.lewuathe.com/python/postgresql/remind-for-insert-into-with-psycopg2.html)"
   ]
  }
 ],
 "metadata": {
  "kernelspec": {
   "display_name": "Python 3",
   "language": "python",
   "name": "python3"
  },
  "language_info": {
   "codemirror_mode": {
    "name": "ipython",
    "version": 3
   },
   "file_extension": ".py",
   "mimetype": "text/x-python",
   "name": "python",
   "nbconvert_exporter": "python",
   "pygments_lexer": "ipython3",
   "version": "3.8.3"
  }
 },
 "nbformat": 4,
 "nbformat_minor": 4
}
